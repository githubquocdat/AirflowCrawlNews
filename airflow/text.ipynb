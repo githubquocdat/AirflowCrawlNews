{
 "cells": [
  {
   "cell_type": "code",
   "execution_count": 1,
   "metadata": {},
   "outputs": [
    {
     "data": {
      "text/plain": [
       "'4.19.0'"
      ]
     },
     "execution_count": 1,
     "metadata": {},
     "output_type": "execute_result"
    }
   ],
   "source": [
    "import selenium\n",
    "selenium.__version__"
   ]
  },
  {
   "cell_type": "code",
   "execution_count": 1,
   "metadata": {},
   "outputs": [],
   "source": [
    "from datetime import date\n",
    "from selenium import webdriver\n",
    "from selenium.webdriver.common.by import By\n",
    "from selenium.webdriver.support.ui import WebDriverWait\n",
    "from selenium.webdriver.support import expected_conditions as EC\n",
    "from selenium.webdriver.edge.service import Service\n",
    "from selenium.webdriver.edge.options import Options\n",
    "import pandas as pd\n",
    "import os\n",
    "import psycopg2\n",
    "from datetime import datetime\n",
    "\n",
    "edge_service = Service('msedgedriver.exe')\n",
    "edge_options = Options()\n",
    "\n",
    "edge_options.add_argument('--headless')\n",
    "edge_options.add_argument('--no-sandbox')\n",
    "TIMEOUT = 30 #secs\n",
    "driver = webdriver.Edge(service=edge_service, options=edge_options)\n",
    "\n"
   ]
  },
  {
   "cell_type": "code",
   "execution_count": 3,
   "metadata": {},
   "outputs": [],
   "source": [
    "def news():\n",
    "    list_news = []\n",
    "    TIMEOUT = 30\n",
    "    driver.get(\"https://vnexpress.net/tin-tuc-24h\")\n",
    "    raw_data = WebDriverWait(driver, TIMEOUT).until(EC.presence_of_all_elements_located((By.CSS_SELECTOR, 'article.item-news h3 a')))\n",
    "    for i in raw_data:\n",
    "        list_news.append(i.get_attribute('href'))\n",
    "    return list_news"
   ]
  },
  {
   "cell_type": "code",
   "execution_count": 4,
   "metadata": {},
   "outputs": [],
   "source": [
    "def crawl_tac_gia(list_news):\n",
    "    author=[]\n",
    "    for link in list_news:\n",
    "        driver.get(link)\n",
    "        try:\n",
    "            detail_news = WebDriverWait(driver, TIMEOUT).until(EC.visibility_of_element_located((By.CSS_SELECTOR,\"article.fck_detail strong\")))\n",
    "            author.append(detail_news.text)\n",
    "        except:\n",
    "            list_news.remove(link)  \n",
    "    return list_news,author\n"
   ]
  },
  {
   "cell_type": "code",
   "execution_count": 25,
   "metadata": {},
   "outputs": [],
   "source": [
    "driver.get(\"https://vnexpress.net/anh-noi-israel-da-chot-phuong-an-dap-tra-iran-4735615.html\")\n",
    "id_news=WebDriverWait(driver, TIMEOUT).until(EC.visibility_of_element_located((By.CSS_SELECTOR,'#dark_theme > section.section.page-detail.top-detail > div > div.social_pin > ul > li.myvne_save_for_later.border')))\n",
    "date_news=WebDriverWait(driver, TIMEOUT).until(EC.visibility_of_element_located((By.CSS_SELECTOR, '#dark_theme > section.section.page-detail.top-detail > div > div.sidebar-1 > div.header-content.width_common > span')))\n",
    "title_news=WebDriverWait(driver, TIMEOUT).until(EC.visibility_of_element_located((By.CSS_SELECTOR,'#dark_theme > section.section.page-detail.top-detail > div > div.sidebar-1 > h1')))\n",
    "description_news=WebDriverWait(driver, TIMEOUT).until(EC.visibility_of_element_located((By.CSS_SELECTOR,'#dark_theme > section.section.page-detail.top-detail > div > div.sidebar-1 > p')))\n",
    "\n",
    "\n",
    "id_article_nn = id_news.get_attribute('data-article-id')\n",
    "description = description_news.text\n",
    "date = date_news.text\n",
    "title = title_news.text\n"
   ]
  },
  {
   "cell_type": "code",
   "execution_count": 29,
   "metadata": {},
   "outputs": [
    {
     "data": {
      "text/plain": [
       "'Anh nói Israel đã chốt phương án đáp trả Iran'"
      ]
     },
     "execution_count": 29,
     "metadata": {},
     "output_type": "execute_result"
    }
   ],
   "source": [
    "title"
   ]
  },
  {
   "cell_type": "code",
   "execution_count": 30,
   "metadata": {},
   "outputs": [],
   "source": [
    "detail =''\n",
    "detail_news = WebDriverWait(driver, TIMEOUT).until(EC.visibility_of_all_elements_located((By.CSS_SELECTOR,'#dark_theme > section.section.page-detail.top-detail > div > div.sidebar-1 > article > p')))\n",
    "for i in detail_news:\n",
    "    detail = detail + ' ' + \" \".join(i.text.split(\"\\n\"))\n",
    "detail_all = detail"
   ]
  },
  {
   "cell_type": "code",
   "execution_count": 31,
   "metadata": {},
   "outputs": [
    {
     "data": {
      "text/plain": [
       "' \"Rõ ràng người Israel đã quyết định hành động. Chúng tôi hy vọng họ sẽ làm theo cách ít leo thang căng thẳng nhất có thể\", Ngoại trưởng Anh David Cameron nói với phóng viên hôm nay khi đang thăm Israel. Thủ tướng Anh Rishi Sunak trước đó điện đàm với người đồng cấp Israel Benjamin Netanyahu, nhấn mạnh \"bước leo thang lớn sẽ không mang lại lợi ích cho ai và chỉ làm gia tăng bất ổn ở Trung Đông\". \"Đây là lúc những cái đầu nguội thắng thế\", ông Sunak nói. Trang tin Jerusalem Post của Israel cùng ngày dẫn nhiều nguồn tin cho biết Lực lượng Phòng vệ Israel (IDF) đã chốt cách đáp trả Iran cùng các lực lượng ủy nhiệm, song chưa quyết định thời điểm. Tuy nhiên, trang tin nhấn mạnh quyết định này cho thấy mức độ nghiêm trọng và quyết tâm của giới lãnh đạo Israel trong phản ứng với vụ tập kích của Iran. Tư lệnh IDF Herzi Halevi trong chuyến thăm Tiểu đoàn 136 ám chỉ chiến dịch đáp trả không diễn ra ngay lập tức. Ông nói bộ chỉ huy của IDF muốn \"người dân trải qua tuần lễ Vượt qua (Quá hải) một cách bình thường\". Tuần lễ này dự kiến kết thúc vào ngày 30/4. Giới quan sát suy đoán các phương án tấn công của Israel có thể gồm tập kích cơ sở hạt nhân, cơ sở tên lửa đạn đạo và máy bay không người lái của Iran, hoặc trừng phạt quan chức Lực lượng Vệ binh Cách mạng Hồi giáo Iran (IRGC) ở nước ngoài. Ngoài ra, họ cũng không loại trừ khả năng Israel kết hợp thêm các cuộc tấn công mạng lớn nhằm vào Iran. Mỹ và các chính phủ phương Tây thông báo sẽ tung loạt lệnh trừng phạt Iran mới, hy vọng thuyết phục Israel hạn chế phạm vi và quy mô đáp trả. Họ lo ngại những đòn đáp trả quyết liệt giữa hai bên có thể dẫn tới cuộc chiến tranh toàn diện ở khu vực. Ngoại trưởng Cameron hôm nay cho biết Anh muốn nhóm G7 sẽ đưa ra các biện pháp trừng phạt phối hợp đối với Iran trong cuộc họp tuần này tại Italy. \"Họ cần G7 đưa ra thông điệp rõ ràng\", ông Cameron nói, đề cập tới Israel. Cố vấn An ninh Quốc gia Mỹ Jake Sullivan ngày 16/4 cho biết Washington đang lên kế hoạch áp trừng phạt với chương trình tên lửa và UAV của Iran trong những ngày tới, đồng thời hy vọng các đồng minh có động thái tương tự. Lực lượng Iran tối 13/4 phóng hơn 300 tên lửa, UAV về phía lãnh thổ Israel, tuyên bố để đáp trả vụ tập kích đại sứ quán nước này ở Damacus, Syria hồi đầu tháng. Đây là cuộc tấn công trực diện đầu tiên của Iran vào Israel sau nhiều năm đối đầu căng thẳng. Tổng thống Iran Ebrahim Raisi hôm nay cảnh báo nước này sẽ phản ứng mạnh mẽ nếu Israel quyết định đáp trả. Tư lệnh không quân Iran Hamid Vahedi tuyên bố lực lượng máy bay quân sự nước này đang trong trạng thái sẵn sàng tốt nhất. Thanh Tâm (Theo AFP, Reuters, Jerusalem Post)'"
      ]
     },
     "execution_count": 31,
     "metadata": {},
     "output_type": "execute_result"
    }
   ],
   "source": [
    "detail_all"
   ]
  },
  {
   "cell_type": "code",
   "execution_count": 32,
   "metadata": {},
   "outputs": [],
   "source": [
    "driver.get(\"https://vnexpress.net/u23-viet-nam-va-co-hoi-pha-dop-tai-vong-loai-olympic-4735461.html\")"
   ]
  },
  {
   "cell_type": "code",
   "execution_count": 33,
   "metadata": {},
   "outputs": [],
   "source": [
    "cc_news = WebDriverWait(driver, TIMEOUT).until(EC.visibility_of_all_elements_located((By.CSS_SELECTOR,'#dark_theme > section.section.page-detail.top-detail > div > div.sidebar-1 > div.header-content.width_common > ul > li > a')))\n",
    "cc_news[0].get_attribute('title')\n",
    "cc_news[1].get_attribute('title')"
   ]
  },
  {
   "cell_type": "code",
   "execution_count": 39,
   "metadata": {},
   "outputs": [
    {
     "data": {
      "text/plain": [
       "'Vy Anh'"
      ]
     },
     "execution_count": 39,
     "metadata": {},
     "output_type": "execute_result"
    }
   ],
   "source": [
    "\n",
    "id_news=WebDriverWait(driver, TIMEOUT).until(EC.visibility_of_element_located((By.CSS_SELECTOR,'#dark_theme > section.section.page-detail.top-detail > div > div.social_pin > ul > li.myvne_save_for_later.border')))\n",
    "detail_news = WebDriverWait(driver, TIMEOUT).until(EC.visibility_of_element_located((By.CSS_SELECTOR,'#dark_theme > section.section.page-detail.top-detail > div > div.sidebar-1 > article > p > strong')))\n",
    "id_news.get_attribute('data-article-id')\n",
    "detail_news.text"
   ]
  },
  {
   "cell_type": "code",
   "execution_count": 44,
   "metadata": {},
   "outputs": [],
   "source": [
    "driver.get(\"https://vnexpress.net/tin-tuc-24h\")"
   ]
  },
  {
   "cell_type": "code",
   "execution_count": 45,
   "metadata": {},
   "outputs": [],
   "source": [
    "TIMEOUT=300\n",
    "raw_data = WebDriverWait(driver, TIMEOUT).until(EC.visibility_of_all_elements_located((By.CSS_SELECTOR, '#automation_TV0 > div > article > div > a')))"
   ]
  },
  {
   "cell_type": "code",
   "execution_count": 46,
   "metadata": {},
   "outputs": [
    {
     "name": "stdout",
     "output_type": "stream",
     "text": [
      "https://vnexpress.net/toi-cho-con-hoc-hai-ngoai-ngu-mot-luc-ngay-tu-7-tuoi-4735456.html\n",
      "https://vnexpress.net/malaysia-thua-bac-nhuoc-o-tran-ra-quan-u23-chau-a-4735673.html\n",
      "https://vnexpress.net/hai-nu-sinh-tu-vong-khi-chup-anh-4735669.html\n",
      "https://vnexpress.net/bai-hoc-nao-cho-arsenal-sau-khi-thua-aston-villa-4735367.html\n",
      "https://vnexpress.net/u23-viet-nam-vs-u23-kuwait-4735656.html\n",
      "https://vnexpress.net/nhom-nguoi-viet-bi-nghi-sat-hai-dong-huong-o-dai-loan-4735655.html\n",
      "https://vnexpress.net/guardiola-noi-toi-so-real-la-doi-tra-4735659.html\n",
      "https://video.vnexpress.net/hanh-khach-so-run-nguoi-nhay-khoi-xe-chay-tren-cao-toc-trung-luong-4735653.html\n",
      "https://vnexpress.net/phap-chuyen-hang-tram-nguoi-nhap-cu-khoi-paris-truoc-them-olympic-4735652.html\n",
      "https://vnexpress.net/ngan-hang-buu-dien-lien-viet-doi-ten-thanh-loc-phat-4735657.html\n",
      "https://vnexpress.net/thai-hoa-toi-thich-dong-vai-ac-4735643.html\n",
      "https://vnexpress.net/nam-nao-nong-nhat-lich-su-nhan-loai-4735641.html\n",
      "https://vnexpress.net/long-an-cong-bo-xam-nhap-man-khan-cap-4735647.html\n",
      "https://vnexpress.net/quang-cao-giam-beo-truyen-nang-luong-tai-sinh-trai-phep-4735525.html\n",
      "https://vnexpress.net/viet-nam-lan-dau-xay-dung-bao-cao-chi-so-khoi-nghiep-quoc-gia-4735601.html\n",
      "https://vnexpress.net/hezbollah-tuyen-bo-tap-kich-so-chi-huy-israel-4735635.html\n",
      "https://vnexpress.net/gan-2-9-ty-usd-kieu-hoi-chay-ve-tp-hcm-4735651.html\n",
      "https://vnexpress.net/ong-biden-muon-tang-gap-ba-thue-nhom-thep-trung-quoc-4735644.html\n",
      "https://vnexpress.net/fpt-retail-tinh-ban-co-phan-chuoi-nha-thuoc-long-chau-4735646.html\n",
      "https://vnexpress.net/benh-soi-va-rubella-khac-nhau-the-nao-4735471.html\n",
      "https://vnexpress.net/sinh-vien-am-uc-vi-le-tot-nghiep-o-hoi-truong-nho-4735289.html\n",
      "https://vnexpress.net/co-dong-ngoai-kusto-chua-tung-chong-lai-coteccons-4735629.html\n",
      "https://vnexpress.net/nam-sinh-nhay-xuong-ho-cuu-nguoi-4735642.html\n",
      "https://vnexpress.net/tim-cook-o-phong-170-trieu-dong-an-toi-mon-phap-tai-ha-noi-4735609.html\n",
      "https://vnexpress.net/khac-biet-chien-luoc-cua-apple-tai-viet-nam-va-indonesia-4735617.html\n",
      "https://vnexpress.net/tai-sao-nau-che-lai-them-chut-muoi-4735494.html\n",
      "https://vnexpress.net/ba-bao-dua-mot-ty-dong-roi-tu-gio-ve-sau-khong-can-nuoi-ong-4726742.html\n",
      "https://vnexpress.net/dep-le-hon-chuc-trieu-dong-cua-sao-viet-4735361.html\n"
     ]
    }
   ],
   "source": [
    "for i in raw_data:\n",
    "    print(i.get_attribute('href'))"
   ]
  },
  {
   "cell_type": "code",
   "execution_count": 117,
   "metadata": {},
   "outputs": [],
   "source": [
    "from datetime import date\n",
    "from selenium import webdriver\n",
    "from selenium.webdriver.common.by import By\n",
    "from selenium.webdriver.support.ui import WebDriverWait\n",
    "from selenium.webdriver.support import expected_conditions as EC\n",
    "from selenium.webdriver.edge.service import Service\n",
    "from selenium.webdriver.edge.options import Options\n",
    "import pandas as pd\n",
    "import os\n",
    "import psycopg2\n",
    "\n",
    "edge_service = Service('msedgedriver.exe')\n",
    "edge_options = Options()\n",
    "\n",
    "edge_options.add_argument('--headless')\n",
    "edge_options.add_argument('--no-sandbox')\n",
    "# TIMEOUT = 35 #secs\n",
    "conn = psycopg2.connect(\"host = localhost dbname = news user = airflow password = airflow\")\n",
    "cur = conn.cursor()\n",
    "driver = webdriver.Edge(service=edge_service, options=edge_options)"
   ]
  },
  {
   "cell_type": "code",
   "execution_count": 138,
   "metadata": {},
   "outputs": [],
   "source": [
    "conn = psycopg2.connect(\"host = localhost dbname = news user = airflow password = airflow\")\n",
    "cur = conn.cursor()"
   ]
  },
  {
   "cell_type": "code",
   "execution_count": 119,
   "metadata": {},
   "outputs": [],
   "source": [
    "def news():\n",
    "    driver.get(\"https://vnexpress.net/tin-tuc-24h\")\n",
    "    # raw_data = WebDriverWait(driver, TIMEOUT).until(EC.visibility_of_element_located((By.CSS_SELECTOR, 'article.fck_detail strong')))\n",
    "    raw_data = driver.find_elements(By.CSS_SELECTOR, '#automation_TV0 > div > article > h3 > a')\n",
    "    for i in raw_data:\n",
    "        list_news.append(i.get_attribute('href'))\n",
    "    return list_news\n",
    "list_news=[]\n",
    "list_news= news()"
   ]
  },
  {
   "cell_type": "code",
   "execution_count": 139,
   "metadata": {},
   "outputs": [],
   "source": [
    "def crawl_tac_gia(cur,conn,list_news):\n",
    "    cur.execute(\"\"\"\n",
    "                SELECT hoten FROM NHA_BAO \n",
    "                \"\"\")\n",
    "    record = cur.fetchall()\n",
    "    tennb=[list(x) for x in record]\n",
    "    list_au_new=[]\n",
    "    for link in list_news:\n",
    "        driver.get(link)\n",
    "        try:\n",
    "            detail_news = driver.find_elements(By.CSS_SELECTOR,\"#dark_theme > section.section.page-detail.top-detail > div > div.sidebar-1 > article > p > strong\")\n",
    "            author=detail_news[-1].text\n",
    "        except:\n",
    "            list_news.remove(link)  \n",
    "        if author not in tennb and author not in list_au_new:\n",
    "            list_au_new.append(author)\n",
    "            cur.execute(f\"insert into nha_bao(hoten) values('{author}')\")\n",
    "            conn.commit()\n",
    "    return list_news\n",
    "list_news = crawl_tac_gia(cur,conn,list_news)"
   ]
  },
  {
   "cell_type": "code",
   "execution_count": 141,
   "metadata": {},
   "outputs": [
    {
     "name": "stdout",
     "output_type": "stream",
     "text": [
      "https://vnexpress.net/chong-khong-chiu-ban-chiec-oto-chi-dung-vai-lan-moi-nam-4734871.html khong hop le\n",
      "https://vnexpress.net/ai-khong-nen-an-rau-mong-toi-4734874.html khong hop le\n",
      "https://vnexpress.net/cach-don-gian-ngan-loa-kinh-lai-khi-nang-gat-4734942.html khong hop le\n",
      "https://vnexpress.net/oto-dap-gio-re-song-vi-xe-may-tran-vao-duong-nguoc-chieu-4734892.html khong hop le\n",
      "https://vnexpress.net/vo-chong-ly-hon-nham-vi-cong-ty-luat-gui-sai-ho-so-cho-toa-4734851.html khong hop le\n",
      "https://vnexpress.net/con-trai-co-nha-rieng-nhung-muon-bo-me-ban-nha-tra-no-giup-4734795.html khong hop le\n"
     ]
    }
   ],
   "source": [
    "def crawl_bai_bao():\n",
    "    cur.execute(\" select id_nb, hoten from nha_bao\")\n",
    "    record = cur.fetchall()\n",
    "    nha_bao=[list(x) for x in record]\n",
    "\n",
    "    cur.execute(\" select id_cd, ten from chu_de\")\n",
    "    record = cur.fetchall()\n",
    "    chu_de=[list(x) for x in record]\n",
    "\n",
    "    cur.execute(\" select id_cm, ten from chuyen_muc\")\n",
    "    record = cur.fetchall()\n",
    "    chuyen_muc=[list(x) for x in record]\n",
    "    \n",
    "    status_bb = 0\n",
    "    try:\n",
    "        cc_news=driver.find_elements(By.CSS_SELECTOR,'ul.breadcrumb li a')\n",
    "        id_news=driver.find_elements(By.CSS_SELECTOR,'li.myvne_save_for_later')\n",
    "        detail_news = driver.find_elements(By.CSS_SELECTOR,\"article.fck_detail strong\")\n",
    "\n",
    "        id_article_bb = id_news[0].get_attribute('data-article-id')\n",
    "        for i in range(len(nha_bao)):\n",
    "            if detail_news[-1].text in nha_bao[i][1] :\n",
    "                id_author=nha_bao[i][0]\n",
    "        for i in range(len(chu_de)):\n",
    "            if cc_news[1].get_attribute('title') in chu_de[i][1] :\n",
    "                id_cd=chu_de[i][0]\n",
    "        for i in range(len(chuyen_muc)):\n",
    "            if cc_news[0].get_attribute('title') in chuyen_muc[i][1] :\n",
    "                id_cm=chuyen_muc[i][0]\n",
    "        return status_bb, id_article_bb, id_cd, id_cm, id_author\n",
    "    except:\n",
    "        status_bb=1\n",
    "        return status_bb\n",
    "    \n",
    "def crawl_noi_dung():\n",
    "    status_nn = 0\n",
    "    try:\n",
    "        id_news=driver.find_elements(By.CSS_SELECTOR,'li.myvne_save_for_later')\n",
    "        date_news=driver.find_elements(By.CSS_SELECTOR,'span.date ')\n",
    "        title_news=driver.find_elements(By.CSS_SELECTOR,'h1.title-detail')\n",
    "        description_news=driver.find_elements(By.CSS_SELECTOR,'p.description')\n",
    "        detail =''\n",
    "        detail_news = driver.find_elements(By.CSS_SELECTOR,'div.sidebar-1 article.fck_detail p.Normal')\n",
    "        for i in detail_news:\n",
    "            detail = detail + ' ' + \" \".join(i.text.split(\"\\n\"))\n",
    "\n",
    "        id_article_nn = id_news[0].get_attribute('data-article-id')\n",
    "        description = description_news[0].text\n",
    "        date = date_news[0].text\n",
    "        title = title_news[0].text\n",
    "        detail_all = detail\n",
    "        return status_nn, title, date, detail_all, description, id_article_nn\n",
    "    except:\n",
    "        status_nn=1\n",
    "        return status_nn\n",
    "def convert_datetime(datetime_str):\n",
    "    parts = datetime_str.split(\",\")\n",
    "    date_str, time_str = parts[1].strip(), parts[2].strip().split(' ')[0]\n",
    "    datetime_obj = datetime.strptime(f\"{date_str} {time_str}\", \"%d/%m/%Y %H:%M\")\n",
    "    formatted_datetime = datetime_obj.strftime(\"%Y-%m-%d %H:%M:%S\")\n",
    "    return formatted_datetime\n",
    "def crawl_bai_bao_noi_dung(list_news):\n",
    "    for link in list_news:  \n",
    "        driver.get(link)\n",
    "        id_article_nn='' ;date=''; title='' ;description=''; detail_all = ''\n",
    "        id_cd=''; id_cm=''; id_nb=''; id_article_bb = ''\n",
    "        try:\n",
    "            status_bb, id_article_bb, id_cd, id_cm, id_nb = crawl_bai_bao()\n",
    "        except:\n",
    "            status_bb = crawl_bai_bao()\n",
    "\n",
    "        try:\n",
    "            status_nn, title, date, detail_all, description, id_article_nn = crawl_noi_dung()\n",
    "            date=convert_datetime(date)\n",
    "        except:\n",
    "            status_nn= crawl_noi_dung()\n",
    "\n",
    "        if status_nn == 0 and status_bb == 0:\n",
    "            try:\n",
    "                cur.execute(\"insert into bai_bao(id_bb, id_cd, id_cm, id_nb, id_btv) values( %s, %s, %s, %s, 0)\", (id_article_bb, id_cd, id_cm, id_nb) )\n",
    "                cur.execute(\"insert into noi_dung(tieude, thoigian, noidung, tomtat, id_bb) values(%s, %s, %s, %s, %s)\", (title, date, detail_all, description, id_article_nn))\n",
    "                conn.commit()\n",
    "            except:\n",
    "                print(f\"{link} : bai bao da co.\")\n",
    "        else:\n",
    "            print(f\"{link} khong hop le\")\n",
    "crawl_bai_bao_noi_dung(list_news)"
   ]
  }
 ],
 "metadata": {
  "kernelspec": {
   "display_name": "Python 3",
   "language": "python",
   "name": "python3"
  },
  "language_info": {
   "codemirror_mode": {
    "name": "ipython",
    "version": 3
   },
   "file_extension": ".py",
   "mimetype": "text/x-python",
   "name": "python",
   "nbconvert_exporter": "python",
   "pygments_lexer": "ipython3",
   "version": "3.11.8"
  }
 },
 "nbformat": 4,
 "nbformat_minor": 2
}
